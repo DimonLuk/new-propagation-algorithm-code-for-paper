{
 "cells": [
  {
   "cell_type": "code",
   "execution_count": 1,
   "metadata": {},
   "outputs": [],
   "source": [
    "import tensorflow as tf"
   ]
  },
  {
   "cell_type": "code",
   "execution_count": 2,
   "metadata": {},
   "outputs": [],
   "source": [
    "def generate_selection_tensor(shape, range_start, range_stop, dtype=\"float32\"):\n",
    "    result = [[0 for _ in range(shape[1])] for _ in range(shape[0])]\n",
    "    for i in range(range_start, range_stop + 1):\n",
    "        result[i][i] = 1\n",
    "    return tf.constant(result, dtype=dtype)"
   ]
  },
  {
   "cell_type": "code",
   "execution_count": 3,
   "metadata": {},
   "outputs": [],
   "source": [
    "class Model:\n",
    "    def __init__(\n",
    "        self,\n",
    "        input_shape,\n",
    "        output_shape,\n",
    "        weights,\n",
    "        iterations,\n",
    "        hidden_activation_fn,\n",
    "        output_activation_fn,\n",
    "        dtype=\"float32\"\n",
    "    ):\n",
    "        self.input_shape = input_shape\n",
    "        self.output_shape = output_shape\n",
    "        self.weights = weights\n",
    "        self.iterations = iterations\n",
    "        self.hidden_activation_fn = hidden_activation_fn\n",
    "        self.output_activation_fn = output_activation_fn\n",
    "        self.dtype = dtype\n",
    "        self._input_selection_tensor = generate_selection_tensor(self.weights.shape, 0, self.input_shape - 1)\n",
    "        self._output_selection_tensor = generate_selection_tensor(\n",
    "            self.weights.shape,\n",
    "            self.input_shape,\n",
    "            self.input_shape + self.output_shape - 1,\n",
    "        )\n",
    "        self._hidden_selection_tensor = generate_selection_tensor(\n",
    "            self.weights.shape,\n",
    "            self.input_shape + self.output_shape,\n",
    "            self.weights.shape[0] - 1,\n",
    "        )\n",
    "        \n",
    "    def fit(self, x):\n",
    "        node_tensor = tf.zeros((x.shape[0], self.weights.shape[0]), dtype=self.dtype)\n",
    "        node_tensor = tf.tensor_scatter_nd_update(\n",
    "            node_tensor,\n",
    "            self._generate_node_tensor_indicies_for_inputs(x.shape[0]),\n",
    "            x,\n",
    "        )\n",
    "        initial_tensor = tf.identity(node_tensor)\n",
    "        for i in tf.range(self.iterations):\n",
    "            neuron_outputs = tf.tensordot(node_tensor, self.weights, axes=[[1], [0]])\n",
    "            node_tensor = (\n",
    "                initial_tensor\n",
    "                + self.output_activation_fn(tf.tensordot(neuron_outputs, self._output_selection_tensor, axes=[[1], [0]]))\n",
    "                + self.hidden_activation_fn(tf.tensordot(neuron_outputs, self._hidden_selection_tensor, axes=[[1], [0]]))\n",
    "            )\n",
    "        return node_tensor[:, self.input_shape:self.input_shape + self.output_shape]\n",
    "    \n",
    "    def _generate_node_tensor_indicies_for_inputs(self, batch_size):\n",
    "        result = []\n",
    "        # only rank 2 inputs are allowed right now, meaning that tensor is in the form (batch_size, data)\n",
    "        for i in range(batch_size):\n",
    "            tmp = []\n",
    "            for j in range(self.input_shape):\n",
    "                tmp.append([i, j])\n",
    "            result.append(tmp)\n",
    "        return result"
   ]
  },
  {
   "cell_type": "code",
   "execution_count": 4,
   "metadata": {},
   "outputs": [],
   "source": [
    "model = Model(\n",
    "    3,\n",
    "    2,\n",
    "    tf.Variable([\n",
    "        [0, 0, 0, 0, 0, 2, 0],\n",
    "        [0, 0, 0, 0, 0, 2, 0],\n",
    "        [0, 0, 0, 0, 2, 0, 2],\n",
    "        [0, 0, 0, 0, 0, 2, 0],\n",
    "        [0, 0, 0, 0, 0, 0, 0],\n",
    "        [0, 0, 0, 2, 0, 0, 0],\n",
    "        [0, 0, 0, 2, 0, 0, 2],\n",
    "    ],dtype=\"float32\"),\n",
    "    2,\n",
    "    tf.identity,\n",
    "    tf.identity,\n",
    ")"
   ]
  },
  {
   "cell_type": "code",
   "execution_count": 5,
   "metadata": {},
   "outputs": [
    {
     "data": {
      "text/plain": [
       "<tf.Tensor: shape=(2, 3), dtype=float32, numpy=\n",
       "array([[1., 2., 3.],\n",
       "       [1., 2., 3.]], dtype=float32)>"
      ]
     },
     "execution_count": 5,
     "metadata": {},
     "output_type": "execute_result"
    }
   ],
   "source": [
    "x = tf.reshape(tf.constant([[1, 2, 3], [1, 2, 3]], dtype=\"float32\"), shape=(2, 3))\n",
    "x"
   ]
  },
  {
   "cell_type": "code",
   "execution_count": 6,
   "metadata": {},
   "outputs": [
    {
     "data": {
      "text/plain": [
       "<tf.Tensor: shape=(2, 2), dtype=float32, numpy=\n",
       "array([[24.,  6.],\n",
       "       [24.,  6.]], dtype=float32)>"
      ]
     },
     "execution_count": 6,
     "metadata": {},
     "output_type": "execute_result"
    }
   ],
   "source": [
    "model.fit(x)"
   ]
  },
  {
   "cell_type": "code",
   "execution_count": 7,
   "metadata": {},
   "outputs": [],
   "source": [
    "@tf.function\n",
    "def fit_model(x):\n",
    "    return model.fit(x)"
   ]
  },
  {
   "cell_type": "code",
   "execution_count": 8,
   "metadata": {},
   "outputs": [
    {
     "data": {
      "text/plain": [
       "<tf.Tensor: shape=(2, 2), dtype=float32, numpy=\n",
       "array([[24.,  6.],\n",
       "       [24.,  6.]], dtype=float32)>"
      ]
     },
     "execution_count": 8,
     "metadata": {},
     "output_type": "execute_result"
    }
   ],
   "source": [
    "fit_model(x)"
   ]
  }
 ],
 "metadata": {
  "kernelspec": {
   "display_name": "Python 3",
   "language": "python",
   "name": "python3"
  },
  "language_info": {
   "codemirror_mode": {
    "name": "ipython",
    "version": 3
   },
   "file_extension": ".py",
   "mimetype": "text/x-python",
   "name": "python",
   "nbconvert_exporter": "python",
   "pygments_lexer": "ipython3",
   "version": "3.6.9"
  }
 },
 "nbformat": 4,
 "nbformat_minor": 2
}
